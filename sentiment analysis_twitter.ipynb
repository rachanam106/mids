[
  {
    "cell_type": "code",
    "metadata": {},
    "source": [
      "import pandas as pd\n",
      "from textblob import TextBlob\n",
      "from sklearn.model_selection import train_test_split\n",
      "from sklearn.feature_extraction.text import CountVectorizer\n",
      "from sklearn.neighbors import KNeighborsClassifier\n",
      "from sklearn.metrics import accuracy_score\n",
      "import matplotlib.pyplot as plt"
    ],
    "execution_count": null,
    "outputs": []
  },
  {
    "cell_type": "code",
    "metadata": {},
    "source": [
      "df = pd.read_csv(\"Mental-Health-Twitter.csv\")"
    ],
    "execution_count": null,
    "outputs": []
  },
  {
    "cell_type": "code",
    "metadata": {},
    "source": [
      "df = df[['post_text']]"
    ],
    "execution_count": null,
    "outputs": []
  },
  {
    "cell_type": "code",
    "metadata": {},
    "source": [
      "df['post_text'] = df['post_text'].str.lower()"
    ],
    "execution_count": null,
    "outputs": []
  },
  {
    "cell_type": "code",
    "metadata": {},
    "source": [
      "df['post_text'] = df['post_text'].str.replace(r'\\d+', '', regex=True)\n",
      "df['post_text'] = df['post_text'].str.replace(r'[^\\w\\s]', '', regex=True)"
    ],
    "execution_count": null,
    "outputs": []
  },
  {
    "cell_type": "code",
    "metadata": {},
    "source": [
      "df['polarity'] = df['post_text'].apply(lambda x: TextBlob(x).sentiment.polarity)"
    ],
    "execution_count": null,
    "outputs": []
  },
  {
    "cell_type": "code",
    "metadata": {},
    "source": [
      "df['Sentiment'] = df['polarity'].apply(lambda x: 'Positive' if x >= 0 else 'Negative')"
    ],
    "execution_count": null,
    "outputs": []
  },
  {
    "cell_type": "code",
    "metadata": {},
    "source": [
      "X = df['post_text']\n",
      "y = df['Sentiment']\n",
      "X_train, X_test, y_train, y_test = train_test_split(X, y, test_size=0.2, random_state=42)"
    ],
    "execution_count": null,
    "outputs": []
  },
  {
    "cell_type": "code",
    "metadata": {},
    "source": [
      "vectorizer = CountVectorizer()\n",
      "X_train_vec = vectorizer.fit_transform(X_train)\n",
      "X_test_vec = vectorizer.transform(X_test)"
    ],
    "execution_count": null,
    "outputs": []
  },
  {
    "cell_type": "code",
    "metadata": {},
    "source": [
      "knn = KNeighborsClassifier()\n",
      "knn.fit(X_train_vec, y_train)"
    ],
    "execution_count": null,
    "outputs": []
  },
  {
    "cell_type": "code",
    "metadata": {},
    "source": [
      "y_pred = knn.predict(X_test_vec)\n",
      "print(\"Accuracy:\", accuracy_score(y_test, y_pred))"
    ],
    "execution_count": null,
    "outputs": []
  },
  {
    "cell_type": "code",
    "metadata": {},
    "source": [
      "df['Sentiment'].value_counts().plot(kind='bar', title='Sentiment Count')\n",
      "plt.show()"
    ],
    "execution_count": null,
    "outputs": []
  }
]
