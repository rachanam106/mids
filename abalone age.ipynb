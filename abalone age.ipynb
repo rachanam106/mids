{
 "cells": [
  {
   "cell_type": "code",
   "execution_count": 4,
   "id": "e36e80da-b384-4ef8-bf86-c8130c9130eb",
   "metadata": {},
   "outputs": [],
   "source": [
    "import pandas as pd\n",
    "\n",
    "df=pd.read_csv(\"abalone.csv\")"
   ]
  },
  {
   "cell_type": "code",
   "execution_count": 5,
   "id": "97b9297c-cf1c-4dc8-8932-7157b18f6584",
   "metadata": {},
   "outputs": [],
   "source": [
    "column_names = ['Sex', 'Length', 'Diameter', 'Height', 'WholeWeight',\n",
    "                'ShuckedWeight', 'VisceraWeight', 'ShellWeight', 'Rings']"
   ]
  },
  {
   "cell_type": "code",
   "execution_count": 6,
   "id": "e416b4fb-4656-48f7-b5b7-c9748d205899",
   "metadata": {},
   "outputs": [],
   "source": [
    "name=column_names"
   ]
  },
  {
   "cell_type": "code",
   "execution_count": 8,
   "id": "5ba86cf9-7ae9-4f67-bb4d-7ff30e6e88ec",
   "metadata": {},
   "outputs": [],
   "source": [
    "#a) Predict number of rings\n",
    "#i) classification: categorise rings into age groups\n",
    "def age_group(rings):\n",
    "    if rings <= 8:\n",
    "        return 'young'\n",
    "    elif rings <= 11:\n",
    "        return 'middle-aged'\n",
    "    else:\n",
    "        return 'old'\n",
    "\n",
    "df['AgeGroup'] = df['Rings'].apply(age_group)\n"
   ]
  },
  {
   "cell_type": "code",
   "execution_count": 9,
   "id": "8f967707-fd98-4487-98ea-2aee5c1f54ff",
   "metadata": {},
   "outputs": [
    {
     "name": "stdout",
     "output_type": "stream",
     "text": [
      "Classification Accuracy: 0.6686602870813397\n"
     ]
    }
   ],
   "source": [
    "#training random forest classifier\n",
    "\n",
    "from sklearn.model_selection import train_test_split\n",
    "from sklearn.ensemble import RandomForestClassifier\n",
    "from sklearn.metrics import accuracy_score\n",
    "from sklearn.preprocessing import LabelEncoder\n",
    "\n",
    "# One-hot encode 'Sex'\n",
    "df = pd.get_dummies(df, columns=['Sex'], drop_first=True)\n",
    "\n",
    "# Features and target\n",
    "X = df.drop(['Rings', 'AgeGroup'], axis=1)\n",
    "y = df['AgeGroup']\n",
    "\n",
    "# Encode labels\n",
    "le = LabelEncoder()\n",
    "y_encoded = le.fit_transform(y)\n",
    "\n",
    "# Train/test split\n",
    "X_train, X_test, y_train, y_test = train_test_split(X, y_encoded, test_size=0.2, random_state=1)\n",
    "\n",
    "# Train model\n",
    "model = RandomForestClassifier()\n",
    "model.fit(X_train, y_train)\n",
    "\n",
    "# Accuracy\n",
    "y_pred = model.predict(X_test)\n",
    "print(\"Classification Accuracy:\", accuracy_score(y_test, y_pred))\n"
   ]
  },
  {
   "cell_type": "code",
   "execution_count": 13,
   "id": "88f29b15-bd60-4353-b551-732e8d2cfdf0",
   "metadata": {},
   "outputs": [
    {
     "name": "stdout",
     "output_type": "stream",
     "text": [
      "Linear Regression RMSE (Age Prediction): 2.1834792448680322\n"
     ]
    }
   ],
   "source": [
    "#b) predict age using linear regression\n",
    "# age= rings+1.5\n",
    "\n",
    "from sklearn.linear_model import LinearRegression\n",
    "from sklearn.metrics import root_mean_squared_error\n",
    "\n",
    "# Target\n",
    "y = df['Rings']\n",
    "\n",
    "# Use previous features\n",
    "X = df.drop(['Rings', 'AgeGroup'], axis=1)\n",
    "\n",
    "# Train/test split\n",
    "X_train, X_test, y_train, y_test = train_test_split(X, y, test_size=0.2, random_state=1)\n",
    "\n",
    "# Train Linear Regression\n",
    "lr = LinearRegression()\n",
    "lr.fit(X_train, y_train)\n",
    "\n",
    "# Predict Rings\n",
    "y_pred_rings = lr.predict(X_test)\n",
    "\n",
    "# Calculate Age = predicted rings + 1.5\n",
    "y_pred_age = y_pred_rings + 1.5\n",
    "\n",
    "# Evaluate\n",
    "rmse = root_mean_squared_error(y_test + 1.5, y_pred_age)\n",
    "print(\"Linear Regression RMSE (Age Prediction):\", rmse)"
   ]
  },
  {
   "cell_type": "code",
   "execution_count": null,
   "id": "16068ee3-a89e-4edf-81c5-1e1cbdb2ba36",
   "metadata": {},
   "outputs": [],
   "source": []
  }
 ],
 "metadata": {
  "kernelspec": {
   "display_name": "Python 3 (ipykernel)",
   "language": "python",
   "name": "python3"
  },
  "language_info": {
   "codemirror_mode": {
    "name": "ipython",
    "version": 3
   },
   "file_extension": ".py",
   "mimetype": "text/x-python",
   "name": "python",
   "nbconvert_exporter": "python",
   "pygments_lexer": "ipython3",
   "version": "3.12.7"
  }
 },
 "nbformat": 4,
 "nbformat_minor": 5
}
